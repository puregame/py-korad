{
 "cells": [
  {
   "cell_type": "code",
   "execution_count": 3,
   "metadata": {},
   "outputs": [
    {
     "ename": "TypeError",
     "evalue": "__init__() takes 2 positional arguments but 4 were given",
     "output_type": "error",
     "traceback": [
      "\u001b[1;31m---------------------------------------------------------------------------\u001b[0m",
      "\u001b[1;31mTypeError\u001b[0m                                 Traceback (most recent call last)",
      "\u001b[1;32m<ipython-input-3-9e871c2c9dd5>\u001b[0m in \u001b[0;36m<module>\u001b[1;34m\u001b[0m\n\u001b[0;32m     16\u001b[0m \u001b[1;33m\u001b[0m\u001b[0m\n\u001b[0;32m     17\u001b[0m \u001b[1;31m# setup the device (the IP of your ethernet/wifi interface, the IP of the Korad device)\u001b[0m\u001b[1;33m\u001b[0m\u001b[1;33m\u001b[0m\u001b[1;33m\u001b[0m\u001b[0m\n\u001b[1;32m---> 18\u001b[1;33m \u001b[0mkel\u001b[0m \u001b[1;33m=\u001b[0m \u001b[0mkel103\u001b[0m\u001b[1;33m.\u001b[0m\u001b[0mKel103\u001b[0m\u001b[1;33m(\u001b[0m\u001b[1;34m\"10.11.1.16\"\u001b[0m\u001b[1;33m,\u001b[0m \u001b[1;34m\"10.11.0.200\"\u001b[0m\u001b[1;33m,\u001b[0m \u001b[1;36m18190\u001b[0m\u001b[1;33m)\u001b[0m\u001b[1;33m\u001b[0m\u001b[1;33m\u001b[0m\u001b[0m\n\u001b[0m\u001b[0;32m     19\u001b[0m \u001b[0mkel\u001b[0m\u001b[1;33m.\u001b[0m\u001b[0mcheckDevice\u001b[0m\u001b[1;33m(\u001b[0m\u001b[1;33m)\u001b[0m\u001b[1;33m\u001b[0m\u001b[1;33m\u001b[0m\u001b[0m\n\u001b[0;32m     20\u001b[0m \u001b[1;33m\u001b[0m\u001b[0m\n",
      "\u001b[1;31mTypeError\u001b[0m: __init__() takes 2 positional arguments but 4 were given"
     ]
    }
   ],
   "source": [
    "\"\"\"This sample program will use the kel103 to test a batteries capacity and \n",
    "show this information in matplotlib. This method is an aproximation and its resolution\n",
    "can be increase with sampling rate. \n",
    "\"\"\"\n",
    "import time\n",
    "import re\n",
    "import matplotlib\n",
    "import matplotlib.pyplot as plt\n",
    "import numpy as np\n",
    "from korad import kel103\n",
    "\n",
    "#test proporties\n",
    "cutOffVoltage = 2.0\n",
    "dischargeRate = 5.0\n",
    "MISSED_LIMIT = 10 # amount of missed samples that is allowed\n",
    "\n",
    "# setup the device (the IP of your ethernet/wifi interface, the IP of the Korad device)\n",
    "kel = kel103.Kel103(\"10.11.1.16\", \"10.11.0.200\", 18190)\n",
    "kel.checkDevice()\n",
    "\n",
    "# a quick battery test\n",
    "kel.setOutput(False)        \n",
    "voltage = kel.measureVolt()\n",
    "kel.setCurrent(dischargeRate)\n",
    "voltageData = []\n",
    "timeData = []\n",
    "current = 0\n",
    "capacity = 0\n",
    "kel.setComp(True) # set external voltage compensation true, requires wires from back of device\n",
    "kel.setOutput(True)\n",
    "\n",
    "# run the test\n",
    "startTime = time.time()\n",
    "missedSuccessiveSamples = 0\n",
    "\n",
    "try:\n",
    "    while voltage > cutOffVoltage:\n",
    "        try:\n",
    "            # store the time before measuring volt/current\n",
    "            current_time = (time.time() - startTime)\n",
    "            voltage = kel.measureVolt()\n",
    "            current = kel.measureCurrent()\n",
    "            voltageData.append(voltage)\n",
    "            # Only append the timedata when volt/current measurements went fine.\n",
    "            # This is because the voltage or current measurement could fail\n",
    "            # and then the x and y-axis would have different dimentions\n",
    "            timeData.append(current_time)\n",
    "\n",
    "            # solve the current stuff as a running accumulation\n",
    "            capacity = ((startTime - time.time()) / 60 / 60) * current\n",
    "\n",
    "            print(\"Voltage: {0} V DC, Capacity: {1} Ah\".format(voltage, capacity))\n",
    "            time.sleep(1)\n",
    "            missedSuccessiveSamples = 0\n",
    "        except Exception as e:\n",
    "            print(e)\n",
    "            missedSuccessiveSamples += 1\n",
    "            if missedSuccessiveSamples >= MISSED_LIMIT:\n",
    "                raise Exception(\"Too many missed samples!\")\n",
    "except KeyboardInterrupt as e:\n",
    "    print(e)\n",
    "    \n",
    "\n",
    "# shutdown the device\n",
    "kel.shutdown()\n",
    "\n",
    "# plot the finished data\n",
    "fig, ax = plt.subplots()\n",
    "ax.plot(timeData, voltageData)\n",
    "\n",
    "ax.set(xlabel='time (s)', ylabel='voltage (V DC)',\n",
    "    title='Battery Discharge Test {}A: {:.4f}Ah'.format(dischargeRate, capacity))\n",
    "ax.grid()\n",
    "\n",
    "plt.show()\n",
    "\n",
    "fig.savefig(\"test_\" + str(time.time()) + \".png\")\n"
   ]
  },
  {
   "cell_type": "code",
   "execution_count": null,
   "metadata": {},
   "outputs": [],
   "source": []
  }
 ],
 "metadata": {
  "kernelspec": {
   "display_name": "Python 3",
   "language": "python",
   "name": "python3"
  },
  "language_info": {
   "codemirror_mode": {
    "name": "ipython",
    "version": 3
   },
   "file_extension": ".py",
   "mimetype": "text/x-python",
   "name": "python",
   "nbconvert_exporter": "python",
   "pygments_lexer": "ipython3",
   "version": "3.8.5"
  }
 },
 "nbformat": 4,
 "nbformat_minor": 4
}
